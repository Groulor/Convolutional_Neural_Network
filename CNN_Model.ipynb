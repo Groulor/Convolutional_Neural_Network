{
  "cells": [
    {
      "cell_type": "markdown",
      "metadata": {
        "id": "7mGmQbAO5pQb"
      },
      "source": [
        "# Setup\n",
        "\n",
        "Cloner le [repository](https://github.com/ultralytics/yolov5), installer [dependencies](https://github.com/ultralytics/yolov5/blob/master/requirements.txt)"
      ]
    },
    {
      "cell_type": "markdown",
      "metadata": {},
      "source": [
        "/!\\ Si le code est run dans google collab, il faut mettre ! devant les commandes bash"
      ]
    },
    {
      "cell_type": "markdown",
      "metadata": {},
      "source": [
        "- Cloner yolo v5\n",
        "  ```bash\n",
        "  git clone https://github.com/ultralytics/yolov5\n",
        "  ```\n",
        "- Installer les requirements"
      ]
    },
    {
      "cell_type": "code",
      "execution_count": null,
      "metadata": {
        "vscode": {
          "languageId": "bat"
        }
      },
      "outputs": [],
      "source": [
        "cd yolov5"
      ]
    },
    {
      "cell_type": "code",
      "execution_count": null,
      "metadata": {
        "vscode": {
          "languageId": "bat"
        }
      },
      "outputs": [],
      "source": [
        "pip install -r requirements.txt comet_ml utils"
      ]
    },
    {
      "cell_type": "code",
      "execution_count": null,
      "metadata": {
        "colab": {
          "base_uri": "https://localhost:8080/"
        },
        "id": "wbvMlHd_QwMG",
        "outputId": "8b49608c-9180-4ab4-d1c1-ce6703668f39"
      },
      "outputs": [],
      "source": [
        "import torch\n",
        "import utils"
      ]
    },
    {
      "cell_type": "markdown",
      "metadata": {},
      "source": [
        "Importer les données d'entrainement et les dézipper"
      ]
    },
    {
      "cell_type": "code",
      "execution_count": null,
      "metadata": {
        "id": "TgygEw4WbMVm",
        "vscode": {
          "languageId": "bat"
        }
      },
      "outputs": [],
      "source": [
        "unzip -q ../TrainIA.zip -d ../"
      ]
    },
    {
      "cell_type": "markdown",
      "metadata": {
        "id": "ZY2VXXXu74w5"
      },
      "source": [
        "# Train"
      ]
    },
    {
      "cell_type": "markdown",
      "metadata": {},
      "source": [
        "- Ajouter le fichier de configuration CustomData.yaml dans yolov5/data"
      ]
    },
    {
      "cell_type": "code",
      "execution_count": null,
      "metadata": {
        "colab": {
          "base_uri": "https://localhost:8080/"
        },
        "id": "1NcFxRcFdJ_O",
        "outputId": "b7a3e617-7ce4-457c-a526-a1a73a35f4d6",
        "vscode": {
          "languageId": "bat"
        }
      },
      "outputs": [],
      "source": [
        "python yolov5/train.py --img 640 --batch 16 --epochs 500 --data CustomData.yaml --weights yolov5s.pt --cache"
      ]
    }
  ],
  "metadata": {
    "accelerator": "GPU",
    "colab": {
      "provenance": []
    },
    "kernelspec": {
      "display_name": "Python 3",
      "name": "python3"
    },
    "language_info": {
      "codemirror_mode": {
        "name": "ipython",
        "version": 3
      },
      "file_extension": ".py",
      "mimetype": "text/x-python",
      "name": "python",
      "nbconvert_exporter": "python",
      "pygments_lexer": "ipython3",
      "version": "3.12.6"
    }
  },
  "nbformat": 4,
  "nbformat_minor": 0
}
